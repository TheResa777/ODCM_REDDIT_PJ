{
  "nbformat": 4,
  "nbformat_minor": 0,
  "metadata": {
    "colab": {
      "name": "Total.subreddits",
      "provenance": [],
      "collapsed_sections": [],
      "include_colab_link": true
    },
    "kernelspec": {
      "name": "python3",
      "display_name": "Python 3"
    },
    "language_info": {
      "name": "python"
    }
  },
  "cells": [
    {
      "cell_type": "markdown",
      "metadata": {
        "id": "view-in-github",
        "colab_type": "text"
      },
      "source": [
        "<a href=\"https://colab.research.google.com/github/Marissa21N/ODCM_REDDIT_PJ/blob/main/Total_subreddits.ipynb\" target=\"_parent\"><img src=\"https://colab.research.google.com/assets/colab-badge.svg\" alt=\"Open In Colab\"/></a>"
      ]
    },
    {
      "cell_type": "code",
      "source": [
        "# requesting json from Reddit( headers)\n",
        "import requests\n",
        "url = 'https://www.reddit.com/r/marketing/about/.json'\n",
        "\n",
        "headers = {'authority': 'www.reddit.com', 'cache-control': 'max-age=10', 'upgrade-insecure-requests': '1', 'user-agent': 'Mozilla/5.0 (Macintosh; Intel Mac OS X 10_15_7) AppleWebKit/537.36 (KHTML, like Gecko) Chrome/87.0.4280.88 Safari/537.36', 'accept': 'text/html,application/xhtml+xml,application/xml;q=0.9,image/avif,image/webp,image/apng,*/*;q=0.8,application/signed-exchange;v=b3;q=0.9', 'sec-fetch-site': 'same-origin', 'sec-fetch-mode': 'navigate', 'sec-fetch-user': '?1', 'sec-fetch-dest': 'document', 'accept-language': 'en-GB,en;q=0.9'}\n",
        "response = requests.get(url, headers=headers)\n",
        "json_response = response.json()"
      ],
      "metadata": {
        "id": "Kx60T6oKJipw"
      },
      "execution_count": null,
      "outputs": []
    },
    {
      "cell_type": "code",
      "execution_count": null,
      "metadata": {
        "id": "7dmg1-OmGxL1",
        "colab": {
          "base_uri": "https://localhost:8080/"
        },
        "outputId": "0090d9f9-fc11-4769-b701-87105c95a0c1"
      },
      "outputs": [
        {
          "output_type": "execute_result",
          "data": {
            "text/plain": [
              "{'active_users': 36712, 'subreddit': 'antiwork', 'total_users': 1759502}"
            ]
          },
          "metadata": {},
          "execution_count": 3
        }
      ],
      "source": [
        "#Total count of active users and total users\n",
        "def get_usercount(subreddit):\n",
        "    response = response = requests.get(f'https://www.reddit.com/r/{subreddit}/about/.json', headers=headers)\n",
        "    json_response = response.json()\n",
        "    out = {}\n",
        "    out['subreddit'] = subreddit\n",
        "    out['total_users'] = json_response['data']['subscribers']\n",
        "    out['active_users'] = json_response['data']['active_user_count']\n",
        "    return out\n",
        "    \n",
        "get_usercount('antiwork')"
      ]
    },
    {
      "cell_type": "code",
      "source": [
        ""
      ],
      "metadata": {
        "id": "J3lQYh3eIapG"
      },
      "execution_count": null,
      "outputs": []
    },
    {
      "cell_type": "markdown",
      "source": [
        "texting texting read all about it"
      ],
      "metadata": {
        "id": "q6nhq981IbID"
      }
    }
  ]
}